{
 "cells": [
  {
   "cell_type": "code",
   "execution_count": 1,
   "id": "207547bd",
   "metadata": {},
   "outputs": [],
   "source": [
    "from statsmodels.tsa.stattools import grangercausalitytests"
   ]
  },
  {
   "cell_type": "code",
   "execution_count": 2,
   "id": "c2b4dec2",
   "metadata": {},
   "outputs": [],
   "source": [
    "import numpy as np\n",
    "import pandas as pd\n",
    "import matplotlib.pyplot as plt"
   ]
  },
  {
   "cell_type": "code",
   "execution_count": 3,
   "id": "9fd6a5da",
   "metadata": {},
   "outputs": [
    {
     "data": {
      "text/plain": [
       "[0.04385942283174777]"
      ]
     },
     "execution_count": 3,
     "metadata": {},
     "output_type": "execute_result"
    }
   ],
   "source": [
    "#build the time series, just a simple AR(1)\n",
    "t1 = [0.1*np.random.normal()]\n",
    "t1"
   ]
  },
  {
   "cell_type": "code",
   "execution_count": 4,
   "id": "0fb15bff",
   "metadata": {},
   "outputs": [],
   "source": [
    "for _ in range(100):\n",
    "    t1.append(0.5*t1[-1]+0.1*np.random.normal())"
   ]
  },
  {
   "cell_type": "code",
   "execution_count": 5,
   "id": "52e3fc2d",
   "metadata": {},
   "outputs": [
    {
     "data": {
      "text/plain": [
       "[0.04385942283174777,\n",
       " 0.024136360704716683,\n",
       " -0.09825576848862927,\n",
       " -0.0005792221305690737,\n",
       " 0.014710311014452538,\n",
       " -0.04082560969365891,\n",
       " 0.1814303153108171,\n",
       " 0.09213390402439661,\n",
       " 0.10332402905270904,\n",
       " 0.010485125700602671,\n",
       " 0.10625603173916137,\n",
       " 0.055037987505554,\n",
       " 0.1523926427330902,\n",
       " -0.005888204396647542,\n",
       " -0.007824100765732287,\n",
       " 0.0687263223985757,\n",
       " 0.16784638495831067,\n",
       " 0.09537632361871777,\n",
       " -0.01757171488376697,\n",
       " -0.2728475995271086,\n",
       " 0.03846684369644299,\n",
       " 0.02871675388503396,\n",
       " -0.10186715974367211,\n",
       " -0.001780671804921606,\n",
       " -0.03722784085092187,\n",
       " 0.054776442647158544,\n",
       " 0.13024645645562835,\n",
       " 0.007760845321939727,\n",
       " -0.06111990198548906,\n",
       " -0.12483126862765345,\n",
       " -0.12274875920613658,\n",
       " 0.06806786083836502,\n",
       " -0.09397572834651294,\n",
       " -0.011332780080493404,\n",
       " 0.011590998019124457,\n",
       " -0.0765451487353972,\n",
       " -0.1715389712315966,\n",
       " 0.08224717957543586,\n",
       " 0.10640471361813245,\n",
       " -0.184056571154686,\n",
       " 0.050218342242752206,\n",
       " 0.019503800345258428,\n",
       " -0.06171723816539375,\n",
       " -0.07707462245586427,\n",
       " 0.004766183675874502,\n",
       " -0.07548150118113187,\n",
       " -0.06660606102108872,\n",
       " -0.19856839626745856,\n",
       " -0.04794496821095222,\n",
       " -0.024201732276820254,\n",
       " -0.053489422217910886,\n",
       " 0.17641706278584485,\n",
       " 0.08123801502593744,\n",
       " 0.24873700208233085,\n",
       " 0.06665673646041026,\n",
       " 0.0009795514799931238,\n",
       " -0.023215901798883123,\n",
       " 0.024245558073614386,\n",
       " 0.0019512894237548699,\n",
       " 0.11152179165981502,\n",
       " -0.019125471381670492,\n",
       " 0.10412641243787202,\n",
       " 0.16816841263636556,\n",
       " 0.18637356272506322,\n",
       " 0.0402568463921203,\n",
       " -0.002743819242026213,\n",
       " -0.01740332342648011,\n",
       " -0.06141427264586489,\n",
       " -0.11132800597242083,\n",
       " -0.08356417700641797,\n",
       " -0.08767811511541898,\n",
       " -0.1438641903545314,\n",
       " -0.1620280180363083,\n",
       " 0.02498257773086178,\n",
       " 0.009202794131254006,\n",
       " 0.07649015467317222,\n",
       " -0.013077805519914047,\n",
       " -0.2808338905452838,\n",
       " -0.20518378437646448,\n",
       " -0.10111163787143129,\n",
       " -0.02757009861740141,\n",
       " 0.03262496028512062,\n",
       " 0.13867883260224878,\n",
       " 0.027768300806205515,\n",
       " 0.07260222095407166,\n",
       " 0.020032321504491284,\n",
       " -0.0046102529584229595,\n",
       " 0.015145533814644698,\n",
       " 0.1284725867125238,\n",
       " 0.09408815580622268,\n",
       " -0.08563096397617899,\n",
       " -0.18604534302839978,\n",
       " -0.10240007980762672,\n",
       " 0.06990372758791032,\n",
       " 0.1412511146858279,\n",
       " -0.028292145382885422,\n",
       " -0.014839570549751276,\n",
       " -0.17842503074959537,\n",
       " 0.08895926157876588,\n",
       " 0.056140110760108185,\n",
       " -0.1267816498336297]"
      ]
     },
     "execution_count": 5,
     "metadata": {},
     "output_type": "execute_result"
    }
   ],
   "source": [
    "t1"
   ]
  },
  {
   "cell_type": "code",
   "execution_count": 6,
   "id": "76d5661c",
   "metadata": {},
   "outputs": [],
   "source": [
    "# a=[2]\n",
    "# for _ in range(5):\n",
    "#     a.append(a[-1]+2*2)"
   ]
  },
  {
   "cell_type": "code",
   "execution_count": 7,
   "id": "21e9dc49",
   "metadata": {},
   "outputs": [],
   "source": [
    "#a"
   ]
  },
  {
   "cell_type": "code",
   "execution_count": 8,
   "id": "93a7c216",
   "metadata": {},
   "outputs": [
    {
     "data": {
      "text/plain": [
       "[0.05525093869630518,\n",
       " 0.05265795958610929,\n",
       " -0.09251350612156577,\n",
       " 0.025983568230234608,\n",
       " 0.034476562812242435,\n",
       " -0.0835616696422704,\n",
       " 0.1530779943909295,\n",
       " 0.1821030787080702,\n",
       " -0.06921553518510032,\n",
       " -0.0458713194178083,\n",
       " -0.09842084063879486,\n",
       " 0.0060727501541464335,\n",
       " 0.19272018174648087,\n",
       " -0.10387377034367769,\n",
       " 0.06400553660011025,\n",
       " 0.12920475274332488,\n",
       " -0.058541672000813144,\n",
       " 0.10771676152469135,\n",
       " 0.15066515841915762,\n",
       " -0.29053485946563884,\n",
       " 0.07284003677700787,\n",
       " 0.15544011001162805,\n",
       " -0.13513904129181695,\n",
       " 0.10969454056048464,\n",
       " -0.09955173106610969,\n",
       " 0.08375465323366522,\n",
       " 0.23535953015121525,\n",
       " 0.08795913152829012,\n",
       " 0.0594873070818021,\n",
       " 0.0011044157715921488,\n",
       " -0.22733767604829402,\n",
       " 0.0687693701172639,\n",
       " -0.05620845691100148,\n",
       " -0.08023024773912134,\n",
       " 0.19906855578691535,\n",
       " -0.22547514902936458,\n",
       " -0.1484226546249206,\n",
       " 0.0752168548604622,\n",
       " 0.21817331688849956,\n",
       " -0.1761269650458466,\n",
       " 0.09672141789224628,\n",
       " 0.0014585202366467105,\n",
       " -0.1661453911816041,\n",
       " -0.17440585283068805,\n",
       " 0.12969947145358157,\n",
       " -0.0527163171015341,\n",
       " -0.09227937506678055,\n",
       " -0.08870546591173362,\n",
       " 0.08068838868074095,\n",
       " 0.04185023267394408,\n",
       " -0.08531938820157382,\n",
       " 0.023669274596528594,\n",
       " 0.18846033730650497,\n",
       " 0.287621059631433,\n",
       " 0.09115415010684152,\n",
       " 0.060855337708432634,\n",
       " 0.02364662704937613,\n",
       " 0.04586561830830495,\n",
       " 0.021545052633240993,\n",
       " 0.22930203789408904,\n",
       " 0.008881960489098062,\n",
       " -0.01944935488719246,\n",
       " 0.07296192104204446,\n",
       " 0.1882802750256576,\n",
       " 0.1846896215657847,\n",
       " -0.12901371759614677,\n",
       " 0.03269474654829442,\n",
       " -0.008573269384130479,\n",
       " -0.05517043169920331,\n",
       " -0.22048410621124745,\n",
       " -0.1668299311684815,\n",
       " -0.2552872424202183,\n",
       " -0.1962803844843949,\n",
       " -0.21648176892400156,\n",
       " 0.17350853615475037,\n",
       " 0.18235790511612363,\n",
       " -0.05288147999624862,\n",
       " -0.1739056779012524,\n",
       " -0.17557544906622116,\n",
       " -0.15044073048246265,\n",
       " -0.21518687425212885,\n",
       " 0.10506610687270274,\n",
       " 0.2218051879002962,\n",
       " -0.03673837140005998,\n",
       " 0.05991133812848514,\n",
       " -0.08260056762716118,\n",
       " -0.13861905497372345,\n",
       " 0.11192277512604928,\n",
       " -0.0052998767869036345,\n",
       " 0.07450266089662763,\n",
       " -0.07606458479738572,\n",
       " -0.2422242060631602,\n",
       " -0.14260646796638962,\n",
       " 0.07147306428448742,\n",
       " 0.12842692155023758,\n",
       " 0.008858042134546773,\n",
       " -0.07898344845130487,\n",
       " -0.14695226671534148,\n",
       " 0.16440728935310828,\n",
       " -0.09164839426048349,\n",
       " -0.13618452238110434]"
      ]
     },
     "execution_count": 8,
     "metadata": {},
     "output_type": "execute_result"
    }
   ],
   "source": [
    "#build the time series that is granger caused by t1\n",
    "t2= [item + 0.1*np.random.normal() for item in t1]\n",
    "t2"
   ]
  },
  {
   "cell_type": "code",
   "execution_count": 9,
   "id": "209e0e7e",
   "metadata": {},
   "outputs": [],
   "source": [
    "#adjust t1 and t2\n",
    "t1=t1[3:]\n",
    "t2=t2[:-3]"
   ]
  },
  {
   "cell_type": "code",
   "execution_count": 10,
   "id": "087493d1",
   "metadata": {},
   "outputs": [],
   "source": [
    "ts_df = pd.DataFrame(columns=[\"t2\",\"t1\"],data=zip(t2,t1))"
   ]
  },
  {
   "cell_type": "code",
   "execution_count": 11,
   "id": "1bc9ff46",
   "metadata": {},
   "outputs": [
    {
     "data": {
      "text/html": [
       "<div>\n",
       "<style scoped>\n",
       "    .dataframe tbody tr th:only-of-type {\n",
       "        vertical-align: middle;\n",
       "    }\n",
       "\n",
       "    .dataframe tbody tr th {\n",
       "        vertical-align: top;\n",
       "    }\n",
       "\n",
       "    .dataframe thead th {\n",
       "        text-align: right;\n",
       "    }\n",
       "</style>\n",
       "<table border=\"1\" class=\"dataframe\">\n",
       "  <thead>\n",
       "    <tr style=\"text-align: right;\">\n",
       "      <th></th>\n",
       "      <th>t2</th>\n",
       "      <th>t1</th>\n",
       "    </tr>\n",
       "  </thead>\n",
       "  <tbody>\n",
       "    <tr>\n",
       "      <th>0</th>\n",
       "      <td>0.055251</td>\n",
       "      <td>-0.000579</td>\n",
       "    </tr>\n",
       "    <tr>\n",
       "      <th>1</th>\n",
       "      <td>0.052658</td>\n",
       "      <td>0.014710</td>\n",
       "    </tr>\n",
       "    <tr>\n",
       "      <th>2</th>\n",
       "      <td>-0.092514</td>\n",
       "      <td>-0.040826</td>\n",
       "    </tr>\n",
       "    <tr>\n",
       "      <th>3</th>\n",
       "      <td>0.025984</td>\n",
       "      <td>0.181430</td>\n",
       "    </tr>\n",
       "    <tr>\n",
       "      <th>4</th>\n",
       "      <td>0.034477</td>\n",
       "      <td>0.092134</td>\n",
       "    </tr>\n",
       "    <tr>\n",
       "      <th>...</th>\n",
       "      <td>...</td>\n",
       "      <td>...</td>\n",
       "    </tr>\n",
       "    <tr>\n",
       "      <th>93</th>\n",
       "      <td>0.071473</td>\n",
       "      <td>-0.014840</td>\n",
       "    </tr>\n",
       "    <tr>\n",
       "      <th>94</th>\n",
       "      <td>0.128427</td>\n",
       "      <td>-0.178425</td>\n",
       "    </tr>\n",
       "    <tr>\n",
       "      <th>95</th>\n",
       "      <td>0.008858</td>\n",
       "      <td>0.088959</td>\n",
       "    </tr>\n",
       "    <tr>\n",
       "      <th>96</th>\n",
       "      <td>-0.078983</td>\n",
       "      <td>0.056140</td>\n",
       "    </tr>\n",
       "    <tr>\n",
       "      <th>97</th>\n",
       "      <td>-0.146952</td>\n",
       "      <td>-0.126782</td>\n",
       "    </tr>\n",
       "  </tbody>\n",
       "</table>\n",
       "<p>98 rows × 2 columns</p>\n",
       "</div>"
      ],
      "text/plain": [
       "          t2        t1\n",
       "0   0.055251 -0.000579\n",
       "1   0.052658  0.014710\n",
       "2  -0.092514 -0.040826\n",
       "3   0.025984  0.181430\n",
       "4   0.034477  0.092134\n",
       "..       ...       ...\n",
       "93  0.071473 -0.014840\n",
       "94  0.128427 -0.178425\n",
       "95  0.008858  0.088959\n",
       "96 -0.078983  0.056140\n",
       "97 -0.146952 -0.126782\n",
       "\n",
       "[98 rows x 2 columns]"
      ]
     },
     "execution_count": 11,
     "metadata": {},
     "output_type": "execute_result"
    }
   ],
   "source": [
    "ts_df"
   ]
  },
  {
   "cell_type": "code",
   "execution_count": 13,
   "id": "3d00f7a1",
   "metadata": {},
   "outputs": [
    {
     "data": {
      "text/plain": [
       "<matplotlib.legend.Legend at 0x255056b83a0>"
      ]
     },
     "execution_count": 13,
     "metadata": {},
     "output_type": "execute_result"
    },
    {
     "data": {
      "image/png": "[encoded data removed]",
      "text/plain": [
       "<Figure size 1080x576 with 1 Axes>"
      ]
     },
     "metadata": {
      "needs_background": "light"
     },
     "output_type": "display_data"
    }
   ],
   "source": [
    "plt.figure(figsize=(15,8))\n",
    "plt.plot(t1, color='b')\n",
    "plt.plot(t2, color='r')\n",
    "\n",
    "plt.legend(['t1', 't2'], fontsize=16)"
   ]
  },
  {
   "cell_type": "code",
   "execution_count": 14,
   "id": "77638151",
   "metadata": {},
   "outputs": [
    {
     "name": "stdout",
     "output_type": "stream",
     "text": [
      "\n",
      "Granger Causality\n",
      "number of lags (no zero) 1\n",
      "ssr based F test:         F=0.7817  , p=0.3789  , df_denom=94, df_num=1\n",
      "ssr based chi2 test:   chi2=0.8066  , p=0.3691  , df=1\n",
      "likelihood ratio test: chi2=0.8033  , p=0.3701  , df=1\n",
      "parameter F test:         F=0.7817  , p=0.3789  , df_denom=94, df_num=1\n",
      "\n",
      "Granger Causality\n",
      "number of lags (no zero) 2\n",
      "ssr based F test:         F=2.6872  , p=0.0735  , df_denom=91, df_num=2\n",
      "ssr based chi2 test:   chi2=5.6698  , p=0.0587  , df=2\n",
      "likelihood ratio test: chi2=5.5087  , p=0.0637  , df=2\n",
      "parameter F test:         F=2.6872  , p=0.0735  , df_denom=91, df_num=2\n",
      "\n",
      "Granger Causality\n",
      "number of lags (no zero) 3\n",
      "ssr based F test:         F=34.6727 , p=0.0000  , df_denom=88, df_num=3\n",
      "ssr based chi2 test:   chi2=112.2922, p=0.0000  , df=3\n",
      "likelihood ratio test: chi2=74.1240 , p=0.0000  , df=3\n",
      "parameter F test:         F=34.6727 , p=0.0000  , df_denom=88, df_num=3\n"
     ]
    }
   ],
   "source": [
    "gc_res = grangercausalitytests(ts_df,3)"
   ]
  },
  {
   "cell_type": "code",
   "execution_count": null,
   "id": "099bb4bc",
   "metadata": {},
   "outputs": [],
   "source": []
  }
 ],
 "metadata": {
  "kernelspec": {
   "display_name": "Python 3",
   "language": "python",
   "name": "python3"
  },
  "language_info": {
   "codemirror_mode": {
    "name": "ipython",
    "version": 3
   },
   "file_extension": ".py",
   "mimetype": "text/x-python",
   "name": "python",
   "nbconvert_exporter": "python",
   "pygments_lexer": "ipython3",
   "version": "3.8.8"
  }
 },
 "nbformat": 4,
 "nbformat_minor": 5
}
